{
 "cells": [
  {
   "cell_type": "code",
   "execution_count": 1,
   "id": "ranking-authority",
   "metadata": {},
   "outputs": [],
   "source": [
    "import os\n",
    "import sys\n",
    "module_path = os.path.abspath(os.path.join('..'))\n",
    "if module_path not in sys.path:\n",
    "    sys.path.append(module_path)"
   ]
  },
  {
   "cell_type": "code",
   "execution_count": 2,
   "id": "soviet-roommate",
   "metadata": {},
   "outputs": [],
   "source": [
    "import pickle\n",
    "\n",
    "import numpy as np\n",
    "from sklearn import datasets\n",
    "from sklearn.model_selection import train_test_split\n",
    "\n",
    "from sklearn.linear_model import LinearRegression\n",
    "from mkml import BaseModel\n",
    "\n",
    "%load_ext autoreload\n",
    "%autoreload 2"
   ]
  },
  {
   "cell_type": "markdown",
   "id": "unauthorized-defensive",
   "metadata": {},
   "source": [
    "# Load and dump train and test data into pickle files"
   ]
  },
  {
   "cell_type": "code",
   "execution_count": 3,
   "id": "blocked-strength",
   "metadata": {},
   "outputs": [],
   "source": [
    "boston = datasets.load_boston()\n",
    "\n",
    "X = boston.data\n",
    "y = boston.target\n",
    "\n",
    "X = X[y < 50.0]\n",
    "y = y[y < 50.0]"
   ]
  },
  {
   "cell_type": "code",
   "execution_count": 4,
   "id": "worthy-tonight",
   "metadata": {},
   "outputs": [],
   "source": [
    "X_train, X_test, y_train, y_test = train_test_split(X, y, random_state=666)"
   ]
  },
  {
   "cell_type": "code",
   "execution_count": 5,
   "id": "developing-disclosure",
   "metadata": {},
   "outputs": [],
   "source": [
    "with open(\"train_features.pkl\",\"wb\") as f:\n",
    "    pickle.dump(X_train, f)\n",
    "\n",
    "with open(\"train_labels.pkl\",\"wb\") as f:\n",
    "    pickle.dump(y_train, f)\n",
    "    \n",
    "with open(\"test_features.pkl\",\"wb\") as f:\n",
    "    pickle.dump(X_test, f)\n",
    "    \n",
    "with open(\"test_labels.pkl\",\"wb\") as f:\n",
    "    pickle.dump(y_test, f)"
   ]
  },
  {
   "cell_type": "markdown",
   "id": "conscious-thirty",
   "metadata": {},
   "source": [
    "# Users Only need to extend from MKML BaseModel to take the benefits of all Plug-in modules"
   ]
  },
  {
   "cell_type": "code",
   "execution_count": 6,
   "id": "vertical-engineering",
   "metadata": {},
   "outputs": [
    {
     "name": "stderr",
     "output_type": "stream",
     "text": [
      "[I 210210 11:11:52 monitoring:14] Start monitoring function __init__\n",
      "[I 210210 11:11:52 monitoring:14] Start monitoring function fit\n",
      "[I 210210 11:11:52 monitoring:14] Start monitoring function predict\n",
      "[I 210210 11:11:52 monitoring:14] Start monitoring function score\n",
      "[D 210210 11:11:52 local_datasource:12] Entering data source plugin\n"
     ]
    }
   ],
   "source": [
    "class UserModel(BaseModel):\n",
    "    def __init__(self):\n",
    "        self._model = LinearRegression()\n",
    "        \n",
    "    def fit(self, features, labels):\n",
    "        self._model.fit(X_train, y_train)\n",
    "\n",
    "    def predict(self, features):\n",
    "        self._model.predict(features)\n",
    "\n",
    "    def score(self, features, labels):\n",
    "        return self._model.score(features, labels)"
   ]
  },
  {
   "cell_type": "code",
   "execution_count": 7,
   "id": "destroyed-title",
   "metadata": {},
   "outputs": [
    {
     "name": "stderr",
     "output_type": "stream",
     "text": [
      "[I 210210 11:11:52 base:11] Entering (__init__) with parameters args: () - kwargs: {}\n",
      "[I 210210 11:11:52 base:19] Exiting (__init__) with duration 0.007964372634887695 seconds\n",
      "[I 210210 11:11:52 base:11] Entering (fit) with parameters args: (array([[9.25200e-02, 3.00000e+01, 4.93000e+00, ..., 1.66000e+01,\n",
      "            3.83780e+02, 7.37000e+00],\n",
      "           [8.66400e-02, 4.50000e+01, 3.44000e+00, ..., 1.52000e+01,\n",
      "            3.90490e+02, 2.87000e+00],\n",
      "           [2.87500e-02, 2.80000e+01, 1.50400e+01, ..., 1.82000e+01,\n",
      "            3.96330e+02, 6.21000e+00],\n",
      "           ...,\n",
      "           [1.06718e+01, 0.00000e+00, 1.81000e+01, ..., 2.02000e+01,\n",
      "            4.30600e+01, 2.39800e+01],\n",
      "           [9.59571e+00, 0.00000e+00, 1.81000e+01, ..., 2.02000e+01,\n",
      "            3.76110e+02, 2.03100e+01],\n",
      "           [2.06080e-01, 2.20000e+01, 5.86000e+00, ..., 1.91000e+01,\n",
      "            3.72490e+02, 1.25000e+01]]), array([23.3, 36.4, 25. , 20.3, 33.3, 33.4, 36.2, 20.1, 22.5, 14.4, 29.6,\n",
      "           48.8, 20.3, 24.7, 21.4, 17.1,  5. , 26.7, 24. , 26.6, 22. , 10.2,\n",
      "           37. , 22.8, 20. , 19.8, 18.5, 24.8, 21.2, 27.5, 21.2, 19.2, 30.7,\n",
      "           27.1, 24.5, 18.2, 32.2, 26.4,  9.7, 21. , 18.1, 18.6, 17.1, 20. ,\n",
      "           19.9, 23.5, 27.5, 42.3, 24.7, 23.8, 15. ,  8.3, 36.1, 14.3, 21.5,\n",
      "           13.6, 13.8, 18.5, 18.5, 21.5, 24.4, 17.3, 16.5, 13.6, 17.8, 24.3,\n",
      "           19.5, 33.8, 24.3, 23.2, 25. , 22. , 22. , 17.1, 22.2, 22. , 20.6,\n",
      "           21.4,  8.7, 13.3,  7.4, 23.7, 19.4, 21.6, 19.1, 21.7,  8.8, 11.9,\n",
      "           35.2, 23.1, 37.6, 26.4, 27.1, 29.1, 21.9, 15.2, 15.3, 21.7, 18.2,\n",
      "           23.8, 22.6, 21.9, 23.2, 20.1, 34.9, 22.6, 22.2, 19.4, 23.7,  8.4,\n",
      "           10.4, 28.7, 20.1, 20.7, 18.5, 21.8, 43.5, 22.9, 19.3, 19.7, 24.5,\n",
      "            7. , 24.5, 22.9, 25. , 16.8, 21.2, 32. , 20.5, 24.1, 17. ,  9.5,\n",
      "           22.4, 30.5, 13.1, 15.1, 20.2, 13.4, 43.8, 17.5, 16.1, 29.1, 14. ,\n",
      "           35.1, 14.2, 21.7, 11.7, 21.7, 46.7, 14.9, 23.3,  7. , 10.9, 16.7,\n",
      "           19.6, 31.1, 15.4, 13.8,  7.2, 24.6, 36.2,  7.2, 23.8, 23.3, 20.8,\n",
      "           27.9, 15.6,  5.6, 17.4, 20.6, 30.1, 24.4, 23. , 28.7, 19.4, 34.9,\n",
      "           28.2, 19.3, 24.1, 15.2, 18.2, 23.1, 18.3, 12.5, 22.1, 14.5, 32. ,\n",
      "           22.2, 16.1, 19.5, 16.1, 18.7,  8.5, 29.8, 32.9, 23.6, 20.3, 21.7,\n",
      "           21.9, 22.6, 25. , 22.8, 16.6, 36. , 12.7, 21.4, 13.4, 16.2, 10.9,\n",
      "           13.3, 18.4, 24.1, 26.2, 30.1, 41.3,  8.4, 17.2, 11.3, 30.8, 13.1,\n",
      "            5. , 13.3, 16.8, 25. , 23.4, 32.4, 19.2, 17.4, 20.9, 24.4, 20. ,\n",
      "           14.8, 13.2, 11.8, 21.1, 23.9, 15. , 18.7, 17.9, 19. , 48.5,  8.1,\n",
      "           21.2, 26.6, 31.5, 21. , 20.6, 24.8, 20.3, 18.4, 10.2, 20. , 11.9,\n",
      "           15. , 13.8, 20.4, 17.5, 21.4, 16.6, 22.7, 30.3, 11.7, 25. , 16.7,\n",
      "           27.5, 22. , 42.8, 24.6, 22.2,  8.5, 14.6, 44.8, 27.9, 18.4, 22.9,\n",
      "           33.2, 25. , 22.3, 36.5, 19.9, 23.1, 14.6, 23. ,  6.3, 23.1, 17.2,\n",
      "           20.4, 19.6, 20.6, 23.6, 27.5, 12.6, 19.3, 20.8, 21.8, 18.9, 17.4,\n",
      "           22.9, 31.6, 28. , 15.6, 13.4, 19.6, 17.2, 17.8, 22.5, 22. , 31.6,\n",
      "           34.7, 14.1, 15.7, 28.4, 18.6, 13.4, 21.7, 19.1, 34.6, 22.7, 19.4,\n",
      "           19.3, 25.3, 25.2, 23.9, 18.3, 31.2, 23.1, 37.2, 20.5, 29.9, 19.9,\n",
      "           23.8, 14.1, 18.8, 33.1, 17.8, 15.6, 17.8, 23.2, 11.5, 19.5, 14.4,\n",
      "           21.4, 19.3, 28.7, 20.9, 33.4, 20. ,  7.5, 25. , 48.3, 45.4, 13.1,\n",
      "           31.7, 18.7, 20.5, 24.3, 22. , 17.7,  9.6, 20.6, 29.8, 24.2, 22.6,\n",
      "           14.5, 11.8, 12.1, 17.6])) - kwargs: {}\n",
      "[I 210210 11:11:52 base:19] Exiting (fit) with duration 0.008086204528808594 seconds\n"
     ]
    }
   ],
   "source": [
    "um = UserModel()\n",
    "\n",
    "train_features = um.get_local_data(feature_mart_location='.', group_id='train_features')\n",
    "train_labels = um.get_local_data(feature_mart_location='.', group_id='train_labels')\n",
    "\n",
    "um.fit(train_features, train_labels)"
   ]
  },
  {
   "cell_type": "code",
   "execution_count": 8,
   "id": "apart-bracket",
   "metadata": {},
   "outputs": [
    {
     "name": "stderr",
     "output_type": "stream",
     "text": [
      "[I 210210 11:11:52 base:11] Entering (score) with parameters args: (array([[3.25430e-01, 0.00000e+00, 2.18900e+01, ..., 2.12000e+01,\n",
      "            3.96900e+02, 1.53900e+01],\n",
      "           [2.14090e-01, 2.20000e+01, 5.86000e+00, ..., 1.91000e+01,\n",
      "            3.77070e+02, 3.59000e+00],\n",
      "           [8.20058e+00, 0.00000e+00, 1.81000e+01, ..., 2.02000e+01,\n",
      "            3.50000e+00, 1.69400e+01],\n",
      "           ...,\n",
      "           [4.47910e-01, 0.00000e+00, 6.20000e+00, ..., 1.74000e+01,\n",
      "            3.60200e+02, 8.05000e+00],\n",
      "           [4.81213e+00, 0.00000e+00, 1.81000e+01, ..., 2.02000e+01,\n",
      "            2.55230e+02, 1.64200e+01],\n",
      "           [2.59406e+01, 0.00000e+00, 1.81000e+01, ..., 2.02000e+01,\n",
      "            1.27360e+02, 2.66400e+01]]), array([18. , 24.8, 13.5, 34.9, 23.7, 13.8, 25.1, 28.5, 15.6, 33. , 16.2,\n",
      "           16.3, 29.4, 17.8, 22.2, 20.6, 13.8, 19.4, 22.5, 23.9, 12.7, 24.8,\n",
      "           23.9, 20.7, 23.2, 37.9, 13.5, 22.4, 12.3, 32.7, 43.1,  8.8, 12.8,\n",
      "           41.7, 19.1, 21.7, 10.5, 24. , 27. , 23.1, 11. , 18.9, 15.2, 19.7,\n",
      "           19.4, 14.3, 23.3, 31. , 19.8, 22.8, 19.6, 14.9, 24.7, 15.4, 19.6,\n",
      "           18.9, 23. , 10.8, 28.6, 35.4, 18.8, 23.4, 22.6,  8.3, 12.7, 26.6,\n",
      "           19.8, 18.9, 29. , 19. , 13. , 22.3, 22.8, 19.5, 14.1, 28.4, 20.1,\n",
      "           13.9, 12. , 33.1, 38.7, 17.5, 19.9, 20.2, 29.6, 21.2, 21.6, 23.9,\n",
      "           28.1, 20.4, 24.4, 35.4, 46. , 20.4, 16. , 31.5, 44. , 21. ,  7.2,\n",
      "           20.8, 33.2, 13.1, 39.8, 16.5, 14.9, 14.5, 26.5, 19.1, 20.1, 30.1,\n",
      "           23. , 23.7, 10.5, 23.1, 37.3, 13.9, 15.6, 21.1, 32.5, 10.2, 29. ,\n",
      "           16.4, 10.4])) - kwargs: {}\n",
      "[I 210210 11:11:52 base:19] Exiting (score) with duration 0.0 seconds\n"
     ]
    },
    {
     "name": "stdout",
     "output_type": "stream",
     "text": [
      "0.8009390227581032\n"
     ]
    }
   ],
   "source": [
    "test_features = um.get_local_data(feature_mart_location='.', group_id='test_features')\n",
    "test_labels = um.get_local_data(feature_mart_location='.', group_id='test_labels')\n",
    "\n",
    "print(um.score(test_features, test_labels))"
   ]
  },
  {
   "cell_type": "code",
   "execution_count": null,
   "id": "dominican-boutique",
   "metadata": {},
   "outputs": [],
   "source": []
  }
 ],
 "metadata": {
  "kernelspec": {
   "display_name": "Python 3",
   "language": "python",
   "name": "python3"
  },
  "language_info": {
   "codemirror_mode": {
    "name": "ipython",
    "version": 3
   },
   "file_extension": ".py",
   "mimetype": "text/x-python",
   "name": "python",
   "nbconvert_exporter": "python",
   "pygments_lexer": "ipython3",
   "version": "3.7.9"
  }
 },
 "nbformat": 4,
 "nbformat_minor": 5
}
